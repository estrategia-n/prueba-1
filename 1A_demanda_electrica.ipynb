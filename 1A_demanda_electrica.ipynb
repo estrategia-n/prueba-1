{
  "cells": [
    {
      "cell_type": "markdown",
      "metadata": {
        "id": "view-in-github",
        "colab_type": "text"
      },
      "source": [
        "<a href=\"https://colab.research.google.com/github/estrategia-n/tfm-naturgy/blob/main/1A_demanda_electrica.ipynb\" target=\"_parent\"><img src=\"https://colab.research.google.com/assets/colab-badge.svg\" alt=\"Open In Colab\"/></a>"
      ]
    },
    {
      "cell_type": "code",
      "execution_count": null,
      "metadata": {
        "id": "zIbtqEFA290m"
      },
      "outputs": [],
      "source": [
        "#importar librerias\n",
        "import requests\n",
        "import pandas as pd\n",
        "import time"
      ]
    },
    {
      "cell_type": "code",
      "execution_count": null,
      "metadata": {
        "id": "o5pTZspn290n"
      },
      "outputs": [],
      "source": [
        "#URL de la API a la que quieres acceder\n",
        "url = \"https://apidatos.ree.es/es/datos/demanda/evolucion\"\n",
        "#https://apidatos.ree.es/es/datos/demanda/evolucion?start_date=2022-01-01T00:00&end_date=2023-04-30T23:59&time_trunc=month&geo_ids=8741&geo_trunc=electric_system&geo_limit=peninsular\n"
      ]
    },
    {
      "cell_type": "code",
      "execution_count": null,
      "metadata": {
        "id": "vrJ50NG7290o"
      },
      "outputs": [],
      "source": [
        "# Parámetros que deseas enviar con la solicitud (si hay)\n",
        "params = {'start_date': '2022-01-01T00:00',\n",
        "'end_date' : '2023-12-31T23:59',\n",
        "'time_trunc' : 'month',\n",
        "'geo_ids': '8741',\n",
        "'geo_trunc': 'electric_system',\n",
        "'geo_limit' : 'peninsular'\n",
        "}"
      ]
    },
    {
      "cell_type": "code",
      "execution_count": null,
      "metadata": {
        "id": "jEDK1qEd290o"
      },
      "outputs": [],
      "source": [
        "# Encabezados de la solicitud (si es necesario)\n",
        "headers = {\n",
        "    #'Authorization': 'Bearer your_access_token' # si a futuro se tiene un token de autorización\n",
        "    'Content-Type': 'application/json'\n",
        "}"
      ]
    },
    {
      "cell_type": "code",
      "execution_count": null,
      "metadata": {
        "id": "U6GoOAF9290o"
      },
      "outputs": [],
      "source": [
        "# Enviar solicitud GET\n",
        "response = requests.get(url, params=params, headers=headers)\n"
      ]
    },
    {
      "cell_type": "code",
      "execution_count": null,
      "metadata": {
        "id": "-N1ongHB290p",
        "outputId": "63eafb7e-ee0a-4f30-9458-c5ffc918929e"
      },
      "outputs": [
        {
          "name": "stdout",
          "output_type": "stream",
          "text": [
            "Solicitud exitosa!\n"
          ]
        },
        {
          "data": {
            "text/html": [
              "<div>\n",
              "<style scoped>\n",
              "    .dataframe tbody tr th:only-of-type {\n",
              "        vertical-align: middle;\n",
              "    }\n",
              "\n",
              "    .dataframe tbody tr th {\n",
              "        vertical-align: top;\n",
              "    }\n",
              "\n",
              "    .dataframe thead th {\n",
              "        text-align: right;\n",
              "    }\n",
              "</style>\n",
              "<table border=\"1\" class=\"dataframe\">\n",
              "  <thead>\n",
              "    <tr style=\"text-align: right;\">\n",
              "      <th></th>\n",
              "      <th>value</th>\n",
              "      <th>percentage</th>\n",
              "      <th>datetime</th>\n",
              "    </tr>\n",
              "  </thead>\n",
              "  <tbody>\n",
              "    <tr>\n",
              "      <th>0</th>\n",
              "      <td>2.151677e+07</td>\n",
              "      <td>1</td>\n",
              "      <td>2022-01-01T00:00:00.000+01:00</td>\n",
              "    </tr>\n",
              "    <tr>\n",
              "      <th>1</th>\n",
              "      <td>1.909095e+07</td>\n",
              "      <td>1</td>\n",
              "      <td>2022-02-01T00:00:00.000+01:00</td>\n",
              "    </tr>\n",
              "    <tr>\n",
              "      <th>2</th>\n",
              "      <td>2.028903e+07</td>\n",
              "      <td>1</td>\n",
              "      <td>2022-03-01T00:00:00.000+01:00</td>\n",
              "    </tr>\n",
              "    <tr>\n",
              "      <th>3</th>\n",
              "      <td>1.844924e+07</td>\n",
              "      <td>1</td>\n",
              "      <td>2022-04-01T00:00:00.000+02:00</td>\n",
              "    </tr>\n",
              "    <tr>\n",
              "      <th>4</th>\n",
              "      <td>1.909673e+07</td>\n",
              "      <td>1</td>\n",
              "      <td>2022-05-01T00:00:00.000+02:00</td>\n",
              "    </tr>\n",
              "    <tr>\n",
              "      <th>5</th>\n",
              "      <td>2.002862e+07</td>\n",
              "      <td>1</td>\n",
              "      <td>2022-06-01T00:00:00.000+02:00</td>\n",
              "    </tr>\n",
              "    <tr>\n",
              "      <th>6</th>\n",
              "      <td>2.214227e+07</td>\n",
              "      <td>1</td>\n",
              "      <td>2022-07-01T00:00:00.000+02:00</td>\n",
              "    </tr>\n",
              "    <tr>\n",
              "      <th>7</th>\n",
              "      <td>2.048617e+07</td>\n",
              "      <td>1</td>\n",
              "      <td>2022-08-01T00:00:00.000+02:00</td>\n",
              "    </tr>\n",
              "    <tr>\n",
              "      <th>8</th>\n",
              "      <td>1.895986e+07</td>\n",
              "      <td>1</td>\n",
              "      <td>2022-09-01T00:00:00.000+02:00</td>\n",
              "    </tr>\n",
              "    <tr>\n",
              "      <th>9</th>\n",
              "      <td>1.810243e+07</td>\n",
              "      <td>1</td>\n",
              "      <td>2022-10-01T00:00:00.000+02:00</td>\n",
              "    </tr>\n",
              "  </tbody>\n",
              "</table>\n",
              "</div>"
            ],
            "text/plain": [
              "          value  percentage                       datetime\n",
              "0  2.151677e+07           1  2022-01-01T00:00:00.000+01:00\n",
              "1  1.909095e+07           1  2022-02-01T00:00:00.000+01:00\n",
              "2  2.028903e+07           1  2022-03-01T00:00:00.000+01:00\n",
              "3  1.844924e+07           1  2022-04-01T00:00:00.000+02:00\n",
              "4  1.909673e+07           1  2022-05-01T00:00:00.000+02:00\n",
              "5  2.002862e+07           1  2022-06-01T00:00:00.000+02:00\n",
              "6  2.214227e+07           1  2022-07-01T00:00:00.000+02:00\n",
              "7  2.048617e+07           1  2022-08-01T00:00:00.000+02:00\n",
              "8  1.895986e+07           1  2022-09-01T00:00:00.000+02:00\n",
              "9  1.810243e+07           1  2022-10-01T00:00:00.000+02:00"
            ]
          },
          "metadata": {},
          "output_type": "display_data"
        }
      ],
      "source": [
        "# Asegurarse de que la solicitud fue exitosa (ver preview)\n",
        "if response.status_code == 200:\n",
        "    print('Solicitud exitosa!')\n",
        "    data = response.json()\n",
        "    df = pd.DataFrame(data['included'][0]['attributes']['values']) ### be carfuly!\n",
        "    display(df.head(10)) # muestra las primeras 10 filas\n",
        "else:\n",
        "    print(f'Error en la solicitud: {response.status_code}')\n",
        "    print(response.text)"
      ]
    },
    {
      "cell_type": "code",
      "execution_count": null,
      "metadata": {
        "id": "keaH0DPY290q"
      },
      "outputs": [],
      "source": [
        "# Guardar el DataFrame en un archivo CSV\n",
        "df.to_csv('demanda_electrica.csv', index=False)\n",
        "print('DataFrame guardado como \"demanda_electrica.csv\"')"
      ]
    }
  ],
  "metadata": {
    "kernelspec": {
      "display_name": "Python 3",
      "language": "python",
      "name": "python3"
    },
    "language_info": {
      "codemirror_mode": {
        "name": "ipython",
        "version": 3
      },
      "file_extension": ".py",
      "mimetype": "text/x-python",
      "name": "python",
      "nbconvert_exporter": "python",
      "pygments_lexer": "ipython3",
      "version": "3.11.3"
    },
    "colab": {
      "provenance": [],
      "include_colab_link": true
    }
  },
  "nbformat": 4,
  "nbformat_minor": 0
}